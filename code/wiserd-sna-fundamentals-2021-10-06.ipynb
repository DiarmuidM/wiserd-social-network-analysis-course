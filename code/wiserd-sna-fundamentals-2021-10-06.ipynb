{
 "cells": [
  {
   "cell_type": "markdown",
   "metadata": {
    "slideshow": {
     "slide_type": "skip"
    }
   },
   "source": [
    "# Social Network Analysis: Fundamental Concepts"
   ]
  },
  {
   "cell_type": "markdown",
   "metadata": {
    "slideshow": {
     "slide_type": "skip"
    }
   },
   "source": [
    "## Introduction\n",
    "\n",
    "Vast swathes of our social interactions and personal behaviours are now conducted online and/or captured digitally. Thus, computational methods for collecting, cleaning and analysing data are an increasingly important component of a social scientist’s toolkit.\n",
    "\n",
    "In this training series we cover some of the essential knowledge and skills needed to engage in **Social Network Analysis (SNA)**, a methodological approach that provides concepts, tools and techniques for uncovering and understanding social structures and relations. We focus on the three major aspects of SNA:\n",
    "1. Understanding fundamental concepts and terms [Focus of this notebook].\n",
    "2. Collecting, cleaning and repurposing data about social networks.\n",
    "3. Performing basic and intermediate analyses of social network data. \n",
    "\n",
    "By the end of these lessons you should be confident in your understanding of key SNA concepts and terms, proficient in the handling and cleaning of social network data, and able to apply a range of analytical techniques to derive substantive insight about social structures and relations. In addition, you will gain fluency in the use of the Python programming language for SNA and other computational social science tasks."
   ]
  },
  {
   "cell_type": "markdown",
   "metadata": {
    "slideshow": {
     "slide_type": "skip"
    },
    "toc": true
   },
   "source": [
    "<h1>Table of Contents<span class=\"tocSkip\"></span></h1>\n",
    "<div class=\"toc\"><ul class=\"toc-item\"><li><span><a href=\"#Introduction\" data-toc-modified-id=\"Introduction-1\"><span class=\"toc-item-num\">1&nbsp;&nbsp;</span>Introduction</a></span><ul class=\"toc-item\"><li><span><a href=\"#Aims\" data-toc-modified-id=\"Aims-1.1\"><span class=\"toc-item-num\">1.1&nbsp;&nbsp;</span>Aims</a></span></li><li><span><a href=\"#Lesson-details\" data-toc-modified-id=\"Lesson-details-1.2\"><span class=\"toc-item-num\">1.2&nbsp;&nbsp;</span>Lesson details</a></span></li></ul></li><li><span><a href=\"#Guide-to-using-this-resource\" data-toc-modified-id=\"Guide-to-using-this-resource-2\"><span class=\"toc-item-num\">2&nbsp;&nbsp;</span>Guide to using this resource</a></span><ul class=\"toc-item\"><li><span><a href=\"#Interaction\" data-toc-modified-id=\"Interaction-2.1\"><span class=\"toc-item-num\">2.1&nbsp;&nbsp;</span>Interaction</a></span></li><li><span><a href=\"#Learn-more\" data-toc-modified-id=\"Learn-more-2.2\"><span class=\"toc-item-num\">2.2&nbsp;&nbsp;</span>Learn more</a></span></li></ul></li><li><span><a href=\"#Overview\" data-toc-modified-id=\"Overview-3\"><span class=\"toc-item-num\">3&nbsp;&nbsp;</span>Overview</a></span><ul class=\"toc-item\"><li><span><a href=\"#What-is-Social-Network-Analysis-(SNA)?\" data-toc-modified-id=\"What-is-Social-Network-Analysis-(SNA)?-3.1\"><span class=\"toc-item-num\">3.1&nbsp;&nbsp;</span>What is Social Network Analysis (SNA)?</a></span></li><li><span><a href=\"#Why-should-you-consider-SNA-for-your-research?\" data-toc-modified-id=\"Why-should-you-consider-SNA-for-your-research?-3.2\"><span class=\"toc-item-num\">3.2&nbsp;&nbsp;</span>Why should you consider SNA for your research?</a></span></li><li><span><a href=\"#When-should-you-use-SNA?\" data-toc-modified-id=\"When-should-you-use-SNA?-3.3\"><span class=\"toc-item-num\">3.3&nbsp;&nbsp;</span>When should you use SNA?</a></span></li><li><span><a href=\"#What-does-SNA-involve?\" data-toc-modified-id=\"What-does-SNA-involve?-3.4\"><span class=\"toc-item-num\">3.4&nbsp;&nbsp;</span>What does SNA involve?</a></span></li><li><span><a href=\"#How-do-you-implement-SNA-in-your-research?\" data-toc-modified-id=\"How-do-you-implement-SNA-in-your-research?-3.5\"><span class=\"toc-item-num\">3.5&nbsp;&nbsp;</span>How do you implement SNA in your research?</a></span></li></ul></li><li><span><a href=\"#Key-Concepts\" data-toc-modified-id=\"Key-Concepts-4\"><span class=\"toc-item-num\">4&nbsp;&nbsp;</span>Key Concepts</a></span><ul class=\"toc-item\"><li><span><a href=\"#Entities\" data-toc-modified-id=\"Entities-4.1\"><span class=\"toc-item-num\">4.1&nbsp;&nbsp;</span>Entities</a></span></li><li><span><a href=\"#Connections\" data-toc-modified-id=\"Connections-4.2\"><span class=\"toc-item-num\">4.2&nbsp;&nbsp;</span>Connections</a></span></li><li><span><a href=\"#Networks\" data-toc-modified-id=\"Networks-4.3\"><span class=\"toc-item-num\">4.3&nbsp;&nbsp;</span>Networks</a></span></li></ul></li><li><span><a href=\"#Representing-Networks\" data-toc-modified-id=\"Representing-Networks-5\"><span class=\"toc-item-num\">5&nbsp;&nbsp;</span>Representing Networks</a></span><ul class=\"toc-item\"><li><span><a href=\"#Matrices\" data-toc-modified-id=\"Matrices-5.1\"><span class=\"toc-item-num\">5.1&nbsp;&nbsp;</span>Matrices</a></span></li><li><span><a href=\"#Edgelists\" data-toc-modified-id=\"Edgelists-5.2\"><span class=\"toc-item-num\">5.2&nbsp;&nbsp;</span>Edgelists</a></span></li><li><span><a href=\"#Graphs\" data-toc-modified-id=\"Graphs-5.3\"><span class=\"toc-item-num\">5.3&nbsp;&nbsp;</span>Graphs</a></span></li></ul></li><li><span><a href=\"#A-Simple-Analysis\" data-toc-modified-id=\"A-Simple-Analysis-6\"><span class=\"toc-item-num\">6&nbsp;&nbsp;</span>A Simple Analysis</a></span><ul class=\"toc-item\"><li><span><a href=\"#Defining-the-study\" data-toc-modified-id=\"Defining-the-study-6.1\"><span class=\"toc-item-num\">6.1&nbsp;&nbsp;</span>Defining the study</a></span></li><li><span><a href=\"#Preliminaries\" data-toc-modified-id=\"Preliminaries-6.2\"><span class=\"toc-item-num\">6.2&nbsp;&nbsp;</span>Preliminaries</a></span></li><li><span><a href=\"#Getting-relational-data\" data-toc-modified-id=\"Getting-relational-data-6.3\"><span class=\"toc-item-num\">6.3&nbsp;&nbsp;</span>Getting relational data</a></span></li><li><span><a href=\"#Network-level-summaries\" data-toc-modified-id=\"Network-level-summaries-6.4\"><span class=\"toc-item-num\">6.4&nbsp;&nbsp;</span>Network-level summaries</a></span></li><li><span><a href=\"#Node-level-measures\" data-toc-modified-id=\"Node-level-measures-6.5\"><span class=\"toc-item-num\">6.5&nbsp;&nbsp;</span>Node-level measures</a></span></li><li><span><a href=\"#Visualising-the-network\" data-toc-modified-id=\"Visualising-the-network-6.6\"><span class=\"toc-item-num\">6.6&nbsp;&nbsp;</span>Visualising the network</a></span></li></ul></li><li><span><a href=\"#Conclusion\" data-toc-modified-id=\"Conclusion-7\"><span class=\"toc-item-num\">7&nbsp;&nbsp;</span>Conclusion</a></span></li><li><span><a href=\"#Bibliography\" data-toc-modified-id=\"Bibliography-8\"><span class=\"toc-item-num\">8&nbsp;&nbsp;</span>Bibliography</a></span></li><li><span><a href=\"#Further-reading-and-resources\" data-toc-modified-id=\"Further-reading-and-resources-9\"><span class=\"toc-item-num\">9&nbsp;&nbsp;</span>Further reading and resources</a></span></li></div>"
   ]
  },
  {
   "cell_type": "markdown",
   "metadata": {
    "slideshow": {
     "slide_type": "skip"
    }
   },
   "source": [
    "### Aims\n",
    "\n",
    "This lesson - **Social Network Analysis: Fundamental Concepts** - has two aims:\n",
    "1. Define and examine fundamental concepts and terms underpinning SNA.\n",
    "2. Cultivate your computational skills through coding examples. For example, there are a number of opportunities for you to interactively explore key concepts, as well as execute a simple analysis of an organisational network."
   ]
  },
  {
   "cell_type": "markdown",
   "metadata": {
    "slideshow": {
     "slide_type": "skip"
    }
   },
   "source": [
    "### Lesson details\n",
    "\n",
    "* **Level**: Introductory, for individuals with no prior knowledge or experience of social network analysis.\n",
    "* **Duration**: 45-60 minutes.\n",
    "* **Pre-requisites**: None.\n",
    "* **Audience**: Researchers and analysts from any disciplinary background interested in employing network analysis for social science research purposes.\n",
    "* **Programming language**: Python.\n",
    "* **Learning outcomes**:\n",
    "\t1. Understand fundamental concepts and terms associated with SNA.\n",
    "\t2. Understand how social network data are structured and represented."
   ]
  },
  {
   "cell_type": "markdown",
   "metadata": {
    "slideshow": {
     "slide_type": "skip"
    }
   },
   "source": [
    "## Guide to using this resource\n",
    "\n",
    "This learning resource was built using <a href=\"https://jupyter.org/\" target=_blank>Jupyter Notebook</a>, an open-source software application that allows you to mix code, results and narrative in a single document. As <a href=\"https://jupyter4edu.github.io/jupyter-edu-book/\" target=_blank>Barba et al. (2019)</a> espouse:\n",
    "> In a world where every subject matter can have a data-supported treatment, where computational devices are omnipresent and pervasive, the union of natural language and computation creates compelling communication and learning opportunities.\n",
    "\n",
    "If you are familiar with Jupyter notebooks then skip ahead to the main content (*Overview*). Otherwise, the following is a quick guide to navigating and interacting with the notebook."
   ]
  },
  {
   "cell_type": "markdown",
   "metadata": {
    "slideshow": {
     "slide_type": "skip"
    }
   },
   "source": [
    "### Interaction\n",
    "\n",
    "**You only need to execute the code that is contained in sections which are marked by `In []`.**\n",
    "\n",
    "To execute a cell, click or double-click the cell and press the `Run` button on the top toolbar (you can also use the keyboard shortcut `Shift + Enter`).\n",
    "\n",
    "Try it for yourself:"
   ]
  },
  {
   "cell_type": "code",
   "execution_count": null,
   "metadata": {
    "slideshow": {
     "slide_type": "skip"
    }
   },
   "outputs": [],
   "source": [
    "print(\"Enter your name and press enter:\")\n",
    "name = input()\n",
    "print(\"\\r\")\n",
    "print(\"Hello {}, enjoy learning more about social network analysis!\".format(name))"
   ]
  },
  {
   "cell_type": "markdown",
   "metadata": {
    "slideshow": {
     "slide_type": "skip"
    }
   },
   "source": [
    "### Learn more\n",
    "\n",
    "Jupyter notebooks provide rich, flexible features for conducting and documenting your data analysis workflow. To learn more about additional notebook features, we recommend working through some of the <a href=\"https://github.com/darribas/gds19/blob/master/content/labs/lab_00.ipynb\" target=_blank>materials</a> provided by Dani Arribas-Bel at the University of Liverpool. "
   ]
  },
  {
   "cell_type": "markdown",
   "metadata": {
    "slideshow": {
     "slide_type": "skip"
    }
   },
   "source": [
    "## Overview\n",
    "\n",
    "Social networks are commonplace in modern life, mainly due to the mass user bases of social media platforms like Twitter, Facebook, Instagram and many others, though there are a multitude of networks arising from other online/offline interactions also e.g., business/academic networking, community groups organised around causes/neighbourhood projects etc (Scott, 2017). \n",
    "\n",
    "Social networks exist even in fictional worlds..."
   ]
  },
  {
   "cell_type": "markdown",
   "metadata": {
    "slideshow": {
     "slide_type": "skip"
    }
   },
   "source": [
    "![Star Wars Social Network](./images/starwars.png)"
   ]
  },
  {
   "cell_type": "markdown",
   "metadata": {
    "slideshow": {
     "slide_type": "skip"
    }
   },
   "source": [
    "We'll let the creator of the graph explain its contents [(Gabasova, 2015)](http://evelinag.com/blog/2015/12-15-star-wars-social-network/):\n",
    "> Here the nodes represent characters in the movies. The characters are connected by a link if they both speak in the same scene. And the more the characters speak together, the thicker the link between them. The size of each node corresponds to the total number of scenes the character appears in.\n",
    "\n",
    "Even such a trivial example &mdash; apologies Star Wars fans &mdash; demonstrates some of the core features of social networks, such as nodes and links. Let's define and establish these features more formally."
   ]
  },
  {
   "cell_type": "markdown",
   "metadata": {
    "slideshow": {
     "slide_type": "skip"
    }
   },
   "source": [
    "### What is Social Network Analysis (SNA)?\n",
    "\n",
    "Social network analysis (SNA) is a methodological and conceptual toolbox for the measurement, systematic description, and analysis of patterns in relational structures in the social world (Caiani, 2014). A relation is a distinctive type of connection or tie between two entities (Wasserman & Faust, 1994). For example, a married couple share a spousal relation, a brother and sister share a sibling relation, co-workers share a collegial relation etc. Relations are the building blocks of networks, and thus SNA is concerned with and most appropriate for analyses of data capturing relations between units of analysis (Scott, 2017).\n",
    "\n",
    "SNA is heavily defined by contributions from *network theory* &mdash; a branch of *graph theory* &mdash; which seeks to generate measurable representations of patterns of relationships between entities in an abstract or actual space (Owen-Smith, 2017). As a result of these origins, SNA is a highly technical and mathematical approach to sociological analysis, replete with an intimidating vocabularly of terms and concepts not otherwise encountered with other forms of social science research (Scott, 2017). In addition, the data underpinning SNA have a distinctive structure and thus require specialised approaches to data manipulation and analysis."
   ]
  },
  {
   "cell_type": "markdown",
   "metadata": {
    "slideshow": {
     "slide_type": "skip"
    }
   },
   "source": [
    "### Why should you consider SNA for your research?\n",
    "\n",
    "From an analytical perspective, SNA can be employed for a variety of valuable purposes (Caiani, 2014; Owen-Smith, 2017)."
   ]
  },
  {
   "cell_type": "markdown",
   "metadata": {
    "slideshow": {
     "slide_type": "skip"
    }
   },
   "source": [
    "1. The social phenomenon of interest takes the form of a network i.e., it is the thing you are trying to describe and explain in your research project. For example, a researcher may be interested in analysing the London Underground rail network (like in this [study](https://doi.org/10.1016/j.jtrangeo.2017.11.018)). In such instances SNA provides a powerful and rich set of analytical tools for describing important features of networks."
   ]
  },
  {
   "cell_type": "markdown",
   "metadata": {
    "slideshow": {
     "slide_type": "skip"
    }
   },
   "source": [
    "2. The features and properties of a network can be important explanatory factors ('right-hand side' or independent variables) for understanding other social phenomena. These properties and features can explain patterns of action, processes of change, and outcomes for individuals/groups (Scott, 2017). Note also how network/structural properties map onto important concepts in social theories e.g., strong and weak ties (Granovetter, 1973), structural holes (Burt, 1992), social capital (Bourdieu, 1986) etc. \n",
    "For example, in a review of the impact of social networks on health outcomes, Smith and Christakis (2008, p. 420) conclude that:\n",
    ">  illness, disability, health behaviors, health care use, and death in one person are associated with similar outcomes in numerous others to whom that person is tied, and there can be a nonbiological transmission of illness."
   ]
  },
  {
   "cell_type": "markdown",
   "metadata": {
    "slideshow": {
     "slide_type": "skip"
    }
   },
   "source": [
    "### When should you use SNA?\n",
    "\n",
    "SNA is appropriate when you are dealing with **relational data** i.e., data capturing relationships and connections between units of analysis. This is in contrast to **attributional data**, which captures the attributes &mdash; characteristics, demographics etc &mdash; of your units of analysis.\n",
    "\n",
    "Attributional data tends to look like this:\n",
    "\n",
    "(*Execute the code cells below - click on the cell and press `Run` or `Shift + Enter` on your keyboard*)"
   ]
  },
  {
   "cell_type": "code",
   "execution_count": null,
   "metadata": {
    "slideshow": {
     "slide_type": "skip"
    }
   },
   "outputs": [],
   "source": [
    "import pandas as pd\n",
    "att = pd.read_csv(\"./data/attributional-data-simple-example.csv\", index_col = False)\n",
    "att"
   ]
  },
  {
   "cell_type": "markdown",
   "metadata": {
    "slideshow": {
     "slide_type": "skip"
    }
   },
   "source": [
    "While relational data tends to look like this:"
   ]
  },
  {
   "cell_type": "code",
   "execution_count": null,
   "metadata": {
    "slideshow": {
     "slide_type": "skip"
    }
   },
   "outputs": [],
   "source": [
    "rel = pd.read_csv(\"./data/relational-data-simple-example.csv\", index_col = 0)\n",
    "rel"
   ]
  },
  {
   "cell_type": "markdown",
   "metadata": {
    "slideshow": {
     "slide_type": "skip"
    }
   },
   "source": [
    "We'll explain the differences and similarities between these data structures [later](#matrices) in the lesson."
   ]
  },
  {
   "cell_type": "markdown",
   "metadata": {
    "slideshow": {
     "slide_type": "skip"
    }
   },
   "source": [
    "### What does SNA involve?\n",
    "\n",
    "Employing SNA in your research typically involves the following activities (Scott, 2017):\n",
    "* Identifying and visualising patterns of relations between units of analysis.\n",
    "* Examining structural properties/characteristics of these relations.\n",
    "* Analysing implications of these relations on outcomes experienced by units of analysis.\n",
    "\n",
    "As a result of its focus on the relational characteristics of the units of analysis, SNA requires distinctive data structures, methods of analysis and data visualisation techniques (Caiani, 2014). "
   ]
  },
  {
   "cell_type": "markdown",
   "metadata": {
    "slideshow": {
     "slide_type": "skip"
    }
   },
   "source": [
    "### How do you implement SNA in your research?\n",
    "\n",
    "There are a number of key steps in conducting social network analysis (Hanneman & Riddle, 2005; Owen-Smith, 2017):\n",
    "1. Pose a carefully articulated research question that requires understanding and/or analysis of a network.\n",
    "2. Decide which units of analysis and types of relations to analyse i.e., who is connected and which relationships matter? \n",
    "3. Collect or select a data set that provides relational data on your units of analysis. This data set can include attributional information also: for example, Twitter data can provide information on which accounts follow each other (relational), as well as details about the accounts themselves (attributional).\n",
    "4. Summarise the network and its key features using appropriate measures e.g., network size, density, cohesion, components etc."
   ]
  },
  {
   "cell_type": "markdown",
   "metadata": {
    "slideshow": {
     "slide_type": "skip"
    }
   },
   "source": [
    "## Key Concepts"
   ]
  },
  {
   "cell_type": "markdown",
   "metadata": {
    "slideshow": {
     "slide_type": "skip"
    }
   },
   "source": [
    "A network is constructed from two key components (Owen-Smith, 2017):\n",
    "1. The **entities** that are (or can be) connected.\n",
    "2. The **connections** that exist (or could exist) between entities.\n",
    "\n",
    "For example, a family tree is a network containing individuals (entities) that are related through some type of familial tie (connection). Therefore a network is an aggregation or collection of these entities and their connections. For example, here is the familial network of the members of the UK Royal Family ([BBC, 2020](https://www.bbc.com/news/uk-23272491\n",
    ")):"
   ]
  },
  {
   "cell_type": "markdown",
   "metadata": {
    "slideshow": {
     "slide_type": "skip"
    }
   },
   "source": [
    "![UK Royal Family](./images/royal-family.png)"
   ]
  },
  {
   "cell_type": "markdown",
   "metadata": {
    "slideshow": {
     "slide_type": "skip"
    }
   },
   "source": [
    "### Entities\n",
    "\n",
    "The entities in a network are known as **nodes**, a term derived from network theory. Nodes can be individuals, organisations, countries, animals, events, computers, train stations etc. We could also refer to entities as *actors* or *agents* &mdash; which are terms specific to SNA &mdash;, or *vertices* &mdash; which is a term used in geometry &mdash;, or *points*, which is used in graph theory. For consistency, we will use the term **node**.\n",
    "\n",
    "Nodes can be differentiated: if there is a particular node of interest in a network, it is often referred to as a **focal node** or **ego**. Nodes that are or could be connected to an ego are known as **alters**. In the example below, the largest, red node is the ego and the smaller, blue nodes are the alters."
   ]
  },
  {
   "cell_type": "markdown",
   "metadata": {
    "slideshow": {
     "slide_type": "skip"
    }
   },
   "source": [
    "![Ego Network Example](./images/ego-network-visualisation.png)"
   ]
  },
  {
   "cell_type": "markdown",
   "metadata": {
    "slideshow": {
     "slide_type": "skip"
    }
   },
   "source": [
    "Whether a node is designated as an **ego** or an **alter** is a researcher decision and will be informed by the particular analytical and substantive focus of your study."
   ]
  },
  {
   "cell_type": "markdown",
   "metadata": {
    "slideshow": {
     "slide_type": "skip"
    }
   },
   "source": [
    "The patterns of connections between nodes also give rise to further distinctions: two nodes that are connected are called a **dyad**, while three nodes that are connected are called a **triad**."
   ]
  },
  {
   "cell_type": "markdown",
   "metadata": {
    "slideshow": {
     "slide_type": "skip"
    }
   },
   "source": [
    "**Dyad**\n",
    "\n",
    "![Example Dyad](./images/dyad-2020-08-26.png)"
   ]
  },
  {
   "cell_type": "markdown",
   "metadata": {
    "slideshow": {
     "slide_type": "skip"
    }
   },
   "source": [
    "**Triad**\n",
    "\n",
    "![Example Triad](./images/triad-2020-08-26.png)"
   ]
  },
  {
   "cell_type": "markdown",
   "metadata": {
    "slideshow": {
     "slide_type": "skip"
    }
   },
   "source": [
    "Finally, it is worth posing the following questions about nodes in advance of your analysis:\n",
    "* Who are they and how many of them are there in a network?\n",
    "* What connections/ties exists between them?\n",
    "* What positions do they occupy in the network? For example, do they broker connections between other nodes?"
   ]
  },
  {
   "cell_type": "markdown",
   "metadata": {
    "slideshow": {
     "slide_type": "skip"
    }
   },
   "source": [
    "### Connections\n",
    "\n",
    "Connections or relations between entities are known as **ties**. Other terms include *edges* (network theory), *lines* (graph theory), or *links*. There are a multitude of different types of ties present in the social world e.g., family relations, friendships, event attendance, club memberships, communal living, collegial etc. And it is possible for two entities to be connected by many different types of ties: for example, a pair of colleagues may also be good friends, part of the same sports club, and have attended the same university. As stated previously, it is therefore crucial to clearly define which ties you are interested in measuring, and acknowledging that your data are most likely a sample of **all** possible ties that exist between your nodes (Hanneman & Riddle, 2005)."
   ]
  },
  {
   "cell_type": "markdown",
   "metadata": {
    "slideshow": {
     "slide_type": "skip"
    }
   },
   "source": [
    "#### Measuring ties\n",
    "\n",
    "There are many measurement scales we can use to measure ties (Hanneman & Riddle, 2005):\n",
    "* *Nominal or Binary*: presence or absence of a tie.\n",
    "* *Multinomial*: type of tie e.g., friend, colleague etc - usually transformed into binary.\n",
    "* *Ordinal (grouped)*: likert scale of tie strength or frequency e.g., on a scale of 1-5 (1 = weak, 5 = strong), classify the relationship you have with each family member.\n",
    "* *Ordinal (full-rank)*: rank nodes in order of tie e.g., best friend, second best friend.\n",
    "* *Interval*: numerical scores assigned to ties e.g., relations between charities and funders, valued by how much funding is provided. It is possible to switch from interval to binary by specifying a threshold or cut point.\n",
    "\n",
    "However many analytical methods focus on ties measured on a *binary* or *interval* scale, and thus we focus on these throughout the rest of this and future lessons."
   ]
  },
  {
   "cell_type": "markdown",
   "metadata": {
    "slideshow": {
     "slide_type": "skip"
    }
   },
   "source": [
    "#### Tie dimensions\n",
    "\n",
    "We can define a tie as possessing two dimensions (Scott, 2017):\n",
    "1. **Numeration / Strength**:\n",
    "    * *Binary*: a tie exists between two entities. These are known as **edges**.\n",
    "    * *Valued*: a tie can be assigned a value representing greater / lesser importance, strength, prominence etc. These are known as **arcs**.\n",
    "2. **Directionality**:\n",
    "    * *Directed*: the tie flows from one entity to another (and is potentially reciprocated); put another way, the tie has a *source node* and *target node*. For example, an individual (source) donates money to a charity (target).\n",
    "    * *Undirected*: the tie does not originate from or terminate at a particular node e.g., if John is married to Jane, Jane must be married to John. Therefore an undirected tie is *symmetric* or *reciprical* by default. It is also possible to treat directed ties as undirected."
   ]
  },
  {
   "cell_type": "markdown",
   "metadata": {
    "slideshow": {
     "slide_type": "skip"
    }
   },
   "source": [
    "These dimensions can be combined in order to define different types of network ties. Let's say we have a network of four friends and we're interested in whether they spoke to each other in the previous week. In this instance we want to examine the *undirected*, *binary* ties that are present in the network - see figure below.\n",
    "\n",
    "**Undirected & Binary** \n",
    "\n",
    "![Undirected Binary Tie](./images/ub-tie-2020-08-26.png)"
   ]
  },
  {
   "cell_type": "markdown",
   "metadata": {
    "slideshow": {
     "slide_type": "skip"
    }
   },
   "source": [
    "Now let's say we want to represent how often these indviduals spoke in the past week. We can do this by examining the *undirected*, *valued* ties - in this example we see that the lines are weighted by the number of times each pair of individuals spoke: for example, Jim spoke to Jane 12 times, and Josie 20 times.\n",
    "\n",
    "**Undirected & Valued** \n",
    "\n",
    "![Undirected Valued Tie](./images/uv-tie-2020-08-26.png)"
   ]
  },
  {
   "cell_type": "markdown",
   "metadata": {
    "slideshow": {
     "slide_type": "skip"
    }
   },
   "source": [
    "We can extend this example by incorporating who most often initiates the contact between each pair of individuals; we are also only interested in whether two individuals spoke, not how often. In such a scenario we are interested in the *directed*, *binary* ties in the network: for example, Josie usually contacts Jane first, while John is typically the one who initiates contact with Josie.\n",
    "\n",
    "**Directed & Binary** \n",
    "\n",
    "![Directed Binary Ties](./images/db-tie-2020-08-26.png)"
   ]
  },
  {
   "cell_type": "markdown",
   "metadata": {
    "slideshow": {
     "slide_type": "skip"
    }
   },
   "source": [
    "Finally we can once again incorporate how often these individuals contact each other to examine *directed*, *valued* ties: for example, Josie and Jim are the pair who speak most often, and Josie is the one who usually initiates contact.\n",
    "\n",
    "**Directed & Valued** \n",
    "\n",
    "![Directed Valued Ties](./images/dv-tie-2020-08-26.png)"
   ]
  },
  {
   "cell_type": "markdown",
   "metadata": {
    "slideshow": {
     "slide_type": "skip"
    }
   },
   "source": [
    "#### Direct vs indirect ties\n",
    "\n",
    "Thus far we have used the word **tie** to indicate whether two nodes are *directly* connected or not, like in this example of a friendship tie:\n",
    "\n",
    "![Direct Tie](./images/direct-tie-2020-08-26.png)"
   ]
  },
  {
   "cell_type": "markdown",
   "metadata": {
    "slideshow": {
     "slide_type": "skip"
    }
   },
   "source": [
    "However it is also possible for two nodes to be *indirectly* connected, like John and Josie in this example - in common parlance we would say Josie is a friend of a friend of John, or that they share a mutual acquaintance (Jane):\n",
    "\n",
    "![Indirect Tie](./images/indirect-tie-2020-08-26.png)"
   ]
  },
  {
   "cell_type": "markdown",
   "metadata": {
    "slideshow": {
     "slide_type": "skip"
    }
   },
   "source": [
    "This distinction between direct and indirect ties is important as some analytical approaches focus on the former, some on the latter. As a rule of thumb however, if you see it stated that two nodes are connected, then assume it is through a direct tie. "
   ]
  },
  {
   "cell_type": "markdown",
   "metadata": {
    "slideshow": {
     "slide_type": "skip"
    }
   },
   "source": [
    "### Networks"
   ]
  },
  {
   "cell_type": "markdown",
   "metadata": {
    "slideshow": {
     "slide_type": "skip"
    }
   },
   "source": [
    "In simple terms, a network is an aggregation or collection of entities and the connections that exist between them. For example, the London Underground is network of tube stations that are connected by rail lines. \n",
    "\n",
    "Networks tend to be multi-modal i.e., nested within other networks (Hanneman & Riddle, 2005). For example, pupils are nested within schools, which are nested within local authorities, which are nested within countries etc. Therefore using our understanding of nodes (entities) and ties (connections), we can identify different network modalities:\n",
    "* One-mode network contains one type of node (e.g., pupils) - this is also known as a *unipartite* network.\n",
    "* Two-mode network contains two types of node (e.g., pupils and schools) - this is also known as a *bipartite* or *affiliate* network.\n",
    "\n",
    "In general we can say that a multi-modal/multipartite network contains *k* types of node, where *k* > 1."
   ]
  },
  {
   "cell_type": "markdown",
   "metadata": {
    "slideshow": {
     "slide_type": "skip"
    }
   },
   "source": [
    "Finally, it is important to distinguish between different types of networks types:\n",
    "* *Whole network*: interested in the totality of connections between a set of nodes.\n",
    "* *Ego-centric network/egonet*: interested in a focal node (ego) and what other nodes are part of its network."
   ]
  },
  {
   "cell_type": "markdown",
   "metadata": {
    "slideshow": {
     "slide_type": "skip"
    }
   },
   "source": [
    "## Representing Networks"
   ]
  },
  {
   "cell_type": "markdown",
   "metadata": {
    "slideshow": {
     "slide_type": "skip"
    }
   },
   "source": [
    "Networks can be represented using three complementary methods:\n",
    "1. Matrices\n",
    "2. Edgelists\n",
    "3. Graphs"
   ]
  },
  {
   "cell_type": "markdown",
   "metadata": {
    "slideshow": {
     "slide_type": "skip"
    }
   },
   "source": [
    "<a id=\"matrices\"></a>\n",
    "\n",
    "### Matrices\n",
    "\n",
    "A matrix is an arrangement of elements into rows (i) and columns (j). Matrices will be very familiar to anyone who has worked with data stored in a spreadsheet: each row represents an observation, each column a variable, and each cell a value for a given variable and observation. For example, here is a data set containing basic details for charities registered in Manchester, U.K.:"
   ]
  },
  {
   "cell_type": "code",
   "execution_count": null,
   "metadata": {
    "scrolled": true,
    "slideshow": {
     "slide_type": "skip"
    }
   },
   "outputs": [],
   "source": [
    "import pandas as pd\n",
    "import numpy as np\n",
    "\n",
    "data = pd.read_csv(\"./data/manchester-charities-2020-08-27.csv\", index_col = False)\n",
    "data.index += 1\n",
    "print(data.shape) # get number of rows and columns\n",
    "data.head(5) # view first five observations"
   ]
  },
  {
   "cell_type": "markdown",
   "metadata": {
    "slideshow": {
     "slide_type": "skip"
    }
   },
   "source": [
    "The data set is stored as a matrix containing 1049 rows and 6 columns: each row is a charity, each column a variable capturing an organisational characteristic, and each cell a value. For instance, we can see that the charity number for THE DOWAGER COUNTESS ELEANOR PEEL TRUST is contained in row 2, column 1 - we can express this using matrix notation as follows: \n",
    "\n",
    "\\begin{equation} \\text{X(2, 1)} = \\text{217014} \\end{equation}\n",
    "\n",
    "Where:\n",
    "\n",
    "$X$ is the name of the matrix (this can be of your chosing);\n",
    "\n",
    "$2$ is the row identifier; and\n",
    "\n",
    "$1$ is the column identifier.\n",
    "\n",
    "Keep this notation in mind as we progress, as this is how ties between nodes in a network are represented i.e., as pairs of nodes."
   ]
  },
  {
   "cell_type": "markdown",
   "metadata": {
    "slideshow": {
     "slide_type": "skip"
    }
   },
   "source": [
    "#### Social networks as matrices\n",
    "\n",
    "The ties between nodes in a social network are often stored in matrix format, the simplest of which is a \"square\" matrix i.e., the number of rows equals the number of columns. Let's take some simple, fictional social network data and examine how it can be represented in matrix format:"
   ]
  },
  {
   "cell_type": "markdown",
   "metadata": {
    "slideshow": {
     "slide_type": "skip"
    }
   },
   "source": [
    "##### Undirected networks"
   ]
  },
  {
   "cell_type": "code",
   "execution_count": null,
   "metadata": {
    "scrolled": true,
    "slideshow": {
     "slide_type": "skip"
    }
   },
   "outputs": [],
   "source": [
    "estreet = pd.read_csv(\"./data/estreet-band-members-2020-08-18.csv\", index_col = 0)\n",
    "pd.options.display.float_format = '{:,.0f}'.format # change display of decimal numbers\n",
    "\n",
    "print(estreet.shape)\n",
    "estreet # view data set"
   ]
  },
  {
   "cell_type": "markdown",
   "metadata": {
    "slideshow": {
     "slide_type": "skip"
    }
   },
   "source": [
    "Above we have a square matrix containing one type of node: current members of the [E Street Band](https://en.wikipedia.org/wiki/E_Street_Band). The matrix captures friendship ties between each member of the band: the ties are *binary* &mdash; is a pair of band members friends or not &mdash; and *undirected* &mdash; there is no source of the friendship. Because the ties are undirected, we can say that the matrix is *symmetric*. For example, saying Bruce Springsteen is friends with Roy Bittan is the same as saying Roy Bittan is friends with Bruce Springsteen - in matrix notation: \n",
    "\n",
    "\\begin{equation} \\text{X(Bruce Springsteen, Roy Brittan)} = \\text{X(Roy Brittan, Bruce Springsteen)} \\end{equation}\n",
    "\n",
    "Diagonal values represent a node's tie to itself (known as a *self-loop*: this does not have any meaning in our example &mdash; how can you be friends with yourself? &mdash;, hence why the value is missing (*nan*: Not a Number).\n",
    "\n",
    "Therefore we can describe this social network as an *adjacency matrix*: it maps who is next to whom in a social space. Saying two nodes are adjacent is another way of describing the presence of a tie between them. \n",
    "\n",
    "In summary, the binary, undirected friendship ties between E Street Band members are stored as a adjacency matrix."
   ]
  },
  {
   "cell_type": "markdown",
   "metadata": {
    "slideshow": {
     "slide_type": "skip"
    }
   },
   "source": [
    "##### Directed networks"
   ]
  },
  {
   "cell_type": "markdown",
   "metadata": {
    "slideshow": {
     "slide_type": "skip"
    }
   },
   "source": [
    "My (Diarmuid) wife is part of a book sharing network with some family members. She can send books to others in the network either unprompted or in response to receiving a book herself. Let's store these book sharing ties in matrix format: "
   ]
  },
  {
   "cell_type": "code",
   "execution_count": null,
   "metadata": {
    "slideshow": {
     "slide_type": "skip"
    }
   },
   "outputs": [],
   "source": [
    "books = pd.read_csv(\"./data/book-sharing-members-directed-2020-08-25.csv\", index_col = 0)\n",
    "books"
   ]
  },
  {
   "cell_type": "markdown",
   "metadata": {
    "slideshow": {
     "slide_type": "skip"
    }
   },
   "source": [
    "You can see that my wife has sent her cousin at least one book (*row 1, column 3*), AND the cousin has sent her at least one (*row 3, column 1*). While her aunt has sent my wife some books (*row 2, column 1*), the reverse isn't true (*row 1, column 2*). **NB** *nan* in Python represents missing values ('Not a Number'), not your Nan (i.e., grandmother).\n",
    "\n",
    "**QUESTION**: is there a reciprocal tie between my wife and her sister-in-law?"
   ]
  },
  {
   "cell_type": "markdown",
   "metadata": {
    "slideshow": {
     "slide_type": "skip"
    }
   },
   "source": [
    "Once again these ties are *binary*, meaning they capture whether an individual sent a book or not to another member of the network. We could also represent these book-sharing ties by **how many** books were sent between individuals in this network:"
   ]
  },
  {
   "cell_type": "code",
   "execution_count": null,
   "metadata": {
    "slideshow": {
     "slide_type": "skip"
    }
   },
   "outputs": [],
   "source": [
    "books_count = pd.read_csv(\"./data/book-sharing-members-directed-valued-2020-08-25.csv\", index_col = 0)\n",
    "books_count"
   ]
  },
  {
   "cell_type": "markdown",
   "metadata": {
    "slideshow": {
     "slide_type": "skip"
    }
   },
   "source": [
    "The same connections are present in this network as in the one above, but this time the ties are *valued* rather than *binary*: that is, they capture the strenght of the connections between members, not just whether a connection exists or not. For instance, my wife has sent two books to her cousin (*row 2, column 3*) and received four from this person (*row 3, column 1*). \n",
    "\n",
    "Because we are dealing with directed ties, we can calculate how many books people sent by summing the values contained in each row:"
   ]
  },
  {
   "cell_type": "code",
   "execution_count": null,
   "metadata": {
    "slideshow": {
     "slide_type": "skip"
    }
   },
   "outputs": [],
   "source": [
    "books_count.sum(axis=1)"
   ]
  },
  {
   "cell_type": "markdown",
   "metadata": {
    "slideshow": {
     "slide_type": "skip"
    }
   },
   "source": [
    "And calculate how many books people received by summing the values contained in each column:"
   ]
  },
  {
   "cell_type": "code",
   "execution_count": null,
   "metadata": {
    "slideshow": {
     "slide_type": "skip"
    }
   },
   "outputs": [],
   "source": [
    "books_count.sum(axis=0)"
   ]
  },
  {
   "cell_type": "markdown",
   "metadata": {
    "slideshow": {
     "slide_type": "skip"
    }
   },
   "source": [
    "**QUESTION**: who has received the most books? Who has sent the fewest? And how many people sent more books than they received?"
   ]
  },
  {
   "cell_type": "markdown",
   "metadata": {
    "slideshow": {
     "slide_type": "skip"
    }
   },
   "source": [
    "Finally, in a directed network the rows represent the *source* of the tie and the columns the *target* or *receiver* of the tie; while this framing does not have any meaning for undirected ties, the terms may still be used and are worth keeping in mind."
   ]
  },
  {
   "cell_type": "markdown",
   "metadata": {
    "slideshow": {
     "slide_type": "skip"
    }
   },
   "source": [
    "### Edgelists\n",
    "\n",
    "An *edgelist* is simply a list of the ties in a network, with the ties represented as pairs of nodes. For example, the E Street Band network can be represented as an edgelist like so:"
   ]
  },
  {
   "cell_type": "code",
   "execution_count": null,
   "metadata": {
    "slideshow": {
     "slide_type": "skip"
    }
   },
   "outputs": [],
   "source": [
    "estreet_el = pd.read_csv(\"./data/estreet-band-edgelist-2020-08-25.csv\", index_col = False)\n",
    "estreet_el"
   ]
  },
  {
   "cell_type": "markdown",
   "metadata": {
    "slideshow": {
     "slide_type": "skip"
    }
   },
   "source": [
    "An edgelist typically doesn't contain pairs of nodes that are not connected, nor duplicate ties &mdash; notice how there is no row where Roy Bittan is the source node and Bruce Springsteen is the target node; in this context the terms *source* and *target* do not have an inherent meaning as the ties are undirected.\n",
    "\n",
    "It is possible to include an additional column capturing the strength of the tie, like in our book sharing network:"
   ]
  },
  {
   "cell_type": "code",
   "execution_count": null,
   "metadata": {
    "slideshow": {
     "slide_type": "skip"
    }
   },
   "outputs": [],
   "source": [
    "books_count_el = pd.read_csv(\"./data/book-sharing-edgelist-2020-08-25.csv\", index_col = False)\n",
    "books_count_el"
   ]
  },
  {
   "cell_type": "markdown",
   "metadata": {
    "slideshow": {
     "slide_type": "skip"
    }
   },
   "source": [
    "**TASK**: using the edgelist above, calculate how many books my wife sent in total, and how many were received by her grandmother. Do your figures match our previous calculations (run code below)?"
   ]
  },
  {
   "cell_type": "code",
   "execution_count": null,
   "metadata": {
    "scrolled": true,
    "slideshow": {
     "slide_type": "skip"
    }
   },
   "outputs": [],
   "source": [
    "# books_count.sum(axis=1)"
   ]
  },
  {
   "cell_type": "markdown",
   "metadata": {
    "slideshow": {
     "slide_type": "skip"
    }
   },
   "source": [
    "### Graphs\n",
    "\n",
    "Many people are familiar with the visual representation of networks, known as **graphs** (network theory) or **sociograms** (SNA). A graph is a set of lines connecting points, and graph theory is a \"*body of mathematical axioms and formulae that describe the properties of the patterns formed by the lines.\"* (Scott, 2017, p. 13). \n",
    "\n",
    "Let's take our E Street Band social network and visualise the friendship ties it contains:"
   ]
  },
  {
   "cell_type": "markdown",
   "metadata": {
    "slideshow": {
     "slide_type": "skip"
    }
   },
   "source": [
    "**E Street Band Network**\n",
    "\n",
    "![E Street Band Sociogram](./images/estreet-sociogram-2020-08-25.png)"
   ]
  },
  {
   "cell_type": "markdown",
   "metadata": {
    "slideshow": {
     "slide_type": "skip"
    }
   },
   "source": [
    "In a network graph (Hanneman & Riddle, 2005):\n",
    "* Nodes are represented as circles\n",
    "* Ties are represented as lines (with arrow heads if the tie is directed)\n",
    "* Colours, shapes and sizes can be used to differentiate nodes by their attributes or network characteristics.\n",
    "* Colours, shapes and sizes can also be used to differentiate relations by their type or amount.\n",
    "\n",
    "By default, **there is no inherent meaning or information conveyed by these features**. The fact that Steven Van Zandt is positioned closer to Max Weinberg than Bruce Springsteen on the graph does not say anything about the nature or strength of their ties. Likewise Garry Tallent could have been placed anywhere on the graph, it still would not change his status in the network as an isolate (i.e., he has no ties).\n",
    "\n",
    "It is possible to imbue nodes and ties on a graph with meaning: for example, thicker lines can indicate the strength of the tie, different colours can distinguish nodes by an attribute (e.g., males and females).\n",
    "\n",
    "Visualising networks is an appealing activity, and there are some excellent examples (see [here](http://www-personal.umich.edu/~mejn/networks/)). However it is better to focus on the structure and numeric analysis of social network data, as they are more revealing about the patterns of connections in a network (Hanneman & Riddle, 2005)."
   ]
  },
  {
   "cell_type": "markdown",
   "metadata": {
    "slideshow": {
     "slide_type": "skip"
    }
   },
   "source": [
    "As a final example, the binary, directed ties in the book sharing network can be visualised as follows:"
   ]
  },
  {
   "cell_type": "markdown",
   "metadata": {
    "slideshow": {
     "slide_type": "skip"
    }
   },
   "source": [
    "**Book Sharing Network**\n",
    "\n",
    "![Book Sharing Sociogram](./images/book-sharing-sociogram-2020-08-25.png)"
   ]
  },
  {
   "cell_type": "markdown",
   "metadata": {
    "slideshow": {
     "slide_type": "-"
    }
   },
   "source": [
    "## A Simple Analysis\n",
    "\n",
    "The networks you have encountered so far have been incredibly simple and/or fictional. It's time to solidify our understanding of the core concepts in SNA using real relational data."
   ]
  },
  {
   "cell_type": "markdown",
   "metadata": {
    "slideshow": {
     "slide_type": "skip"
    }
   },
   "source": [
    "### Defining the study\n",
    "\n",
    "1. **Research question**: What degree of board interlock occurs in the UK charity sector? Board interlock is a measure of the degree to which organisations are connected through shared board members.\n",
    "2. **Nodes and connections**: Registered charities and whether they have trustees in common. That is, two charities are connected if they have at least one individual who acts as a trustee of both organisations.\n",
    "3. **Data set**: Current trustees of charities headquartered in Manchester.\n",
    "4. **Analysis**: Interested in analysing the size of the network, how cohesive it is, and which charities are the most connected."
   ]
  },
  {
   "cell_type": "markdown",
   "metadata": {
    "slideshow": {
     "slide_type": "slide"
    }
   },
   "source": [
    "### Preliminaries\n",
    "\n",
    "We need to import Python modules for working with network data."
   ]
  },
  {
   "cell_type": "code",
   "execution_count": 16,
   "metadata": {
    "slideshow": {
     "slide_type": "subslide"
    }
   },
   "outputs": [],
   "source": [
    "import pandas as pd # data manipulation\n",
    "import numpy as np # mathematical operations\n",
    "import networkx as nx # network analysis\n",
    "import matplotlib.pyplot as plt # data visualisation\n",
    "from operator import itemgetter # suite of standard Python operators"
   ]
  },
  {
   "cell_type": "markdown",
   "metadata": {
    "slideshow": {
     "slide_type": "slide"
    }
   },
   "source": [
    "### Getting relational data\n",
    "\n",
    "We begin with data on the current trustees (board members) of our group of manchester charities:"
   ]
  },
  {
   "cell_type": "code",
   "execution_count": 3,
   "metadata": {
    "slideshow": {
     "slide_type": "subslide"
    }
   },
   "outputs": [
    {
     "name": "stdout",
     "output_type": "stream",
     "text": [
      "(2735, 4)\n"
     ]
    },
    {
     "data": {
      "text/html": [
       "<div>\n",
       "<style scoped>\n",
       "    .dataframe tbody tr th:only-of-type {\n",
       "        vertical-align: middle;\n",
       "    }\n",
       "\n",
       "    .dataframe tbody tr th {\n",
       "        vertical-align: top;\n",
       "    }\n",
       "\n",
       "    .dataframe thead th {\n",
       "        text-align: right;\n",
       "    }\n",
       "</style>\n",
       "<table border=\"1\" class=\"dataframe\">\n",
       "  <thead>\n",
       "    <tr style=\"text-align: right;\">\n",
       "      <th></th>\n",
       "      <th>trustee_id</th>\n",
       "      <th>trustee_name</th>\n",
       "      <th>trustee_total_tships</th>\n",
       "      <th>regno</th>\n",
       "    </tr>\n",
       "  </thead>\n",
       "  <tbody>\n",
       "    <tr>\n",
       "      <th>0</th>\n",
       "      <td>5873</td>\n",
       "      <td>Rabbi Abraham Hassan</td>\n",
       "      <td>3</td>\n",
       "      <td>1071809</td>\n",
       "    </tr>\n",
       "    <tr>\n",
       "      <th>1</th>\n",
       "      <td>5873</td>\n",
       "      <td>Rabbi Abraham Hassan</td>\n",
       "      <td>3</td>\n",
       "      <td>1095687</td>\n",
       "    </tr>\n",
       "    <tr>\n",
       "      <th>2</th>\n",
       "      <td>5873</td>\n",
       "      <td>Rabbi Abraham Hassan</td>\n",
       "      <td>3</td>\n",
       "      <td>1013846</td>\n",
       "    </tr>\n",
       "    <tr>\n",
       "      <th>3</th>\n",
       "      <td>14229</td>\n",
       "      <td>David Neuwirth</td>\n",
       "      <td>9</td>\n",
       "      <td>1123674</td>\n",
       "    </tr>\n",
       "    <tr>\n",
       "      <th>4</th>\n",
       "      <td>14229</td>\n",
       "      <td>David Neuwirth</td>\n",
       "      <td>9</td>\n",
       "      <td>1166641</td>\n",
       "    </tr>\n",
       "    <tr>\n",
       "      <th>5</th>\n",
       "      <td>14229</td>\n",
       "      <td>David Neuwirth</td>\n",
       "      <td>9</td>\n",
       "      <td>1083461</td>\n",
       "    </tr>\n",
       "    <tr>\n",
       "      <th>6</th>\n",
       "      <td>14229</td>\n",
       "      <td>David Neuwirth</td>\n",
       "      <td>9</td>\n",
       "      <td>1109132</td>\n",
       "    </tr>\n",
       "    <tr>\n",
       "      <th>7</th>\n",
       "      <td>14229</td>\n",
       "      <td>David Neuwirth</td>\n",
       "      <td>9</td>\n",
       "      <td>1084316</td>\n",
       "    </tr>\n",
       "    <tr>\n",
       "      <th>8</th>\n",
       "      <td>14229</td>\n",
       "      <td>David Neuwirth</td>\n",
       "      <td>9</td>\n",
       "      <td>1136917</td>\n",
       "    </tr>\n",
       "    <tr>\n",
       "      <th>9</th>\n",
       "      <td>14229</td>\n",
       "      <td>David Neuwirth</td>\n",
       "      <td>9</td>\n",
       "      <td>1183303</td>\n",
       "    </tr>\n",
       "    <tr>\n",
       "      <th>10</th>\n",
       "      <td>14229</td>\n",
       "      <td>David Neuwirth</td>\n",
       "      <td>9</td>\n",
       "      <td>1111457</td>\n",
       "    </tr>\n",
       "    <tr>\n",
       "      <th>11</th>\n",
       "      <td>14229</td>\n",
       "      <td>David Neuwirth</td>\n",
       "      <td>9</td>\n",
       "      <td>1092751</td>\n",
       "    </tr>\n",
       "  </tbody>\n",
       "</table>\n",
       "</div>"
      ],
      "text/plain": [
       "    trustee_id          trustee_name  trustee_total_tships    regno\n",
       "0         5873  Rabbi Abraham Hassan                     3  1071809\n",
       "1         5873  Rabbi Abraham Hassan                     3  1095687\n",
       "2         5873  Rabbi Abraham Hassan                     3  1013846\n",
       "3        14229        David Neuwirth                     9  1123674\n",
       "4        14229        David Neuwirth                     9  1166641\n",
       "5        14229        David Neuwirth                     9  1083461\n",
       "6        14229        David Neuwirth                     9  1109132\n",
       "7        14229        David Neuwirth                     9  1084316\n",
       "8        14229        David Neuwirth                     9  1136917\n",
       "9        14229        David Neuwirth                     9  1183303\n",
       "10       14229        David Neuwirth                     9  1111457\n",
       "11       14229        David Neuwirth                     9  1092751"
      ]
     },
     "execution_count": 3,
     "metadata": {},
     "output_type": "execute_result"
    }
   ],
   "source": [
    "data = pd.read_csv(\"./data/manchester-trustees-2020-08-27.csv\", index_col = False)\n",
    "print(data.shape)\n",
    "data.head(12)"
   ]
  },
  {
   "cell_type": "markdown",
   "metadata": {
    "slideshow": {
     "slide_type": "skip"
    }
   },
   "source": [
    "As you can see, the first individual is a trustee of three charities, the second a trustee of nine etc. Because we have the unique id (`regno`) of the charity a trustee is connected to, this data set contains *relational information* on how charities are connected to each other by the presence of a common individual. For instance, three of the charities &mdash; 1071809, 1095687, 1013846 &mdash; are all linked through the trustee Rabbi Abraham Hassan. "
   ]
  },
  {
   "cell_type": "markdown",
   "metadata": {
    "slideshow": {
     "slide_type": "subslide"
    }
   },
   "source": [
    "Our first task is to extract the relational information contained in this data set: the end result of this process will be an adjacency (node-by-node) matrix containing the *binary*, *undirected* ties linking charities together. That is, a data set where every row and column represents a charity, and the cells indicate whether a pair of charities are linked through at least one trustee.\n",
    "\n",
    "First, let's see how many charities are in the data:"
   ]
  },
  {
   "cell_type": "code",
   "execution_count": 4,
   "metadata": {
    "slideshow": {
     "slide_type": "subslide"
    }
   },
   "outputs": [
    {
     "data": {
      "text/plain": [
       "1123"
      ]
     },
     "execution_count": 4,
     "metadata": {},
     "output_type": "execute_result"
    }
   ],
   "source": [
    "len(data.drop_duplicates(\"regno\"))"
   ]
  },
  {
   "cell_type": "markdown",
   "metadata": {
    "slideshow": {
     "slide_type": "skip"
    }
   },
   "source": [
    "OK, that means we'll have a matrix with 1123 rows and 1123 columns (one for each charity). If a matrix has the same number of rows and columns it is known as a *square matrix*."
   ]
  },
  {
   "cell_type": "markdown",
   "metadata": {
    "slideshow": {
     "slide_type": "subslide"
    }
   },
   "source": [
    "#### Adjacency matrix\n",
    "\n",
    "Let's use some clever Python code to create an adjacency matrix of charities from our trustees data set."
   ]
  },
  {
   "cell_type": "code",
   "execution_count": 5,
   "metadata": {
    "scrolled": true,
    "slideshow": {
     "slide_type": "subslide"
    }
   },
   "outputs": [
    {
     "data": {
      "text/html": [
       "<div>\n",
       "<style scoped>\n",
       "    .dataframe tbody tr th:only-of-type {\n",
       "        vertical-align: middle;\n",
       "    }\n",
       "\n",
       "    .dataframe tbody tr th {\n",
       "        vertical-align: top;\n",
       "    }\n",
       "\n",
       "    .dataframe thead th {\n",
       "        text-align: right;\n",
       "    }\n",
       "</style>\n",
       "<table border=\"1\" class=\"dataframe\">\n",
       "  <thead>\n",
       "    <tr style=\"text-align: right;\">\n",
       "      <th></th>\n",
       "      <th>trustee_id</th>\n",
       "      <th>trustee_name_x</th>\n",
       "      <th>trustee_total_tships_x</th>\n",
       "      <th>regno_x</th>\n",
       "      <th>trustee_name_y</th>\n",
       "      <th>trustee_total_tships_y</th>\n",
       "      <th>regno_y</th>\n",
       "    </tr>\n",
       "  </thead>\n",
       "  <tbody>\n",
       "    <tr>\n",
       "      <th>0</th>\n",
       "      <td>5873</td>\n",
       "      <td>Rabbi Abraham Hassan</td>\n",
       "      <td>3</td>\n",
       "      <td>1071809</td>\n",
       "      <td>Rabbi Abraham Hassan</td>\n",
       "      <td>3</td>\n",
       "      <td>1071809</td>\n",
       "    </tr>\n",
       "    <tr>\n",
       "      <th>1</th>\n",
       "      <td>5873</td>\n",
       "      <td>Rabbi Abraham Hassan</td>\n",
       "      <td>3</td>\n",
       "      <td>1071809</td>\n",
       "      <td>Rabbi Abraham Hassan</td>\n",
       "      <td>3</td>\n",
       "      <td>1095687</td>\n",
       "    </tr>\n",
       "    <tr>\n",
       "      <th>2</th>\n",
       "      <td>5873</td>\n",
       "      <td>Rabbi Abraham Hassan</td>\n",
       "      <td>3</td>\n",
       "      <td>1071809</td>\n",
       "      <td>Rabbi Abraham Hassan</td>\n",
       "      <td>3</td>\n",
       "      <td>1013846</td>\n",
       "    </tr>\n",
       "    <tr>\n",
       "      <th>3</th>\n",
       "      <td>5873</td>\n",
       "      <td>Rabbi Abraham Hassan</td>\n",
       "      <td>3</td>\n",
       "      <td>1095687</td>\n",
       "      <td>Rabbi Abraham Hassan</td>\n",
       "      <td>3</td>\n",
       "      <td>1071809</td>\n",
       "    </tr>\n",
       "    <tr>\n",
       "      <th>4</th>\n",
       "      <td>5873</td>\n",
       "      <td>Rabbi Abraham Hassan</td>\n",
       "      <td>3</td>\n",
       "      <td>1095687</td>\n",
       "      <td>Rabbi Abraham Hassan</td>\n",
       "      <td>3</td>\n",
       "      <td>1095687</td>\n",
       "    </tr>\n",
       "    <tr>\n",
       "      <th>5</th>\n",
       "      <td>5873</td>\n",
       "      <td>Rabbi Abraham Hassan</td>\n",
       "      <td>3</td>\n",
       "      <td>1095687</td>\n",
       "      <td>Rabbi Abraham Hassan</td>\n",
       "      <td>3</td>\n",
       "      <td>1013846</td>\n",
       "    </tr>\n",
       "    <tr>\n",
       "      <th>6</th>\n",
       "      <td>5873</td>\n",
       "      <td>Rabbi Abraham Hassan</td>\n",
       "      <td>3</td>\n",
       "      <td>1013846</td>\n",
       "      <td>Rabbi Abraham Hassan</td>\n",
       "      <td>3</td>\n",
       "      <td>1071809</td>\n",
       "    </tr>\n",
       "    <tr>\n",
       "      <th>7</th>\n",
       "      <td>5873</td>\n",
       "      <td>Rabbi Abraham Hassan</td>\n",
       "      <td>3</td>\n",
       "      <td>1013846</td>\n",
       "      <td>Rabbi Abraham Hassan</td>\n",
       "      <td>3</td>\n",
       "      <td>1095687</td>\n",
       "    </tr>\n",
       "    <tr>\n",
       "      <th>8</th>\n",
       "      <td>5873</td>\n",
       "      <td>Rabbi Abraham Hassan</td>\n",
       "      <td>3</td>\n",
       "      <td>1013846</td>\n",
       "      <td>Rabbi Abraham Hassan</td>\n",
       "      <td>3</td>\n",
       "      <td>1013846</td>\n",
       "    </tr>\n",
       "    <tr>\n",
       "      <th>9</th>\n",
       "      <td>14229</td>\n",
       "      <td>David Neuwirth</td>\n",
       "      <td>9</td>\n",
       "      <td>1123674</td>\n",
       "      <td>David Neuwirth</td>\n",
       "      <td>9</td>\n",
       "      <td>1123674</td>\n",
       "    </tr>\n",
       "    <tr>\n",
       "      <th>10</th>\n",
       "      <td>14229</td>\n",
       "      <td>David Neuwirth</td>\n",
       "      <td>9</td>\n",
       "      <td>1123674</td>\n",
       "      <td>David Neuwirth</td>\n",
       "      <td>9</td>\n",
       "      <td>1166641</td>\n",
       "    </tr>\n",
       "    <tr>\n",
       "      <th>11</th>\n",
       "      <td>14229</td>\n",
       "      <td>David Neuwirth</td>\n",
       "      <td>9</td>\n",
       "      <td>1123674</td>\n",
       "      <td>David Neuwirth</td>\n",
       "      <td>9</td>\n",
       "      <td>1083461</td>\n",
       "    </tr>\n",
       "    <tr>\n",
       "      <th>12</th>\n",
       "      <td>14229</td>\n",
       "      <td>David Neuwirth</td>\n",
       "      <td>9</td>\n",
       "      <td>1123674</td>\n",
       "      <td>David Neuwirth</td>\n",
       "      <td>9</td>\n",
       "      <td>1109132</td>\n",
       "    </tr>\n",
       "    <tr>\n",
       "      <th>13</th>\n",
       "      <td>14229</td>\n",
       "      <td>David Neuwirth</td>\n",
       "      <td>9</td>\n",
       "      <td>1123674</td>\n",
       "      <td>David Neuwirth</td>\n",
       "      <td>9</td>\n",
       "      <td>1084316</td>\n",
       "    </tr>\n",
       "    <tr>\n",
       "      <th>14</th>\n",
       "      <td>14229</td>\n",
       "      <td>David Neuwirth</td>\n",
       "      <td>9</td>\n",
       "      <td>1123674</td>\n",
       "      <td>David Neuwirth</td>\n",
       "      <td>9</td>\n",
       "      <td>1136917</td>\n",
       "    </tr>\n",
       "    <tr>\n",
       "      <th>15</th>\n",
       "      <td>14229</td>\n",
       "      <td>David Neuwirth</td>\n",
       "      <td>9</td>\n",
       "      <td>1123674</td>\n",
       "      <td>David Neuwirth</td>\n",
       "      <td>9</td>\n",
       "      <td>1183303</td>\n",
       "    </tr>\n",
       "    <tr>\n",
       "      <th>16</th>\n",
       "      <td>14229</td>\n",
       "      <td>David Neuwirth</td>\n",
       "      <td>9</td>\n",
       "      <td>1123674</td>\n",
       "      <td>David Neuwirth</td>\n",
       "      <td>9</td>\n",
       "      <td>1111457</td>\n",
       "    </tr>\n",
       "    <tr>\n",
       "      <th>17</th>\n",
       "      <td>14229</td>\n",
       "      <td>David Neuwirth</td>\n",
       "      <td>9</td>\n",
       "      <td>1123674</td>\n",
       "      <td>David Neuwirth</td>\n",
       "      <td>9</td>\n",
       "      <td>1092751</td>\n",
       "    </tr>\n",
       "    <tr>\n",
       "      <th>18</th>\n",
       "      <td>14229</td>\n",
       "      <td>David Neuwirth</td>\n",
       "      <td>9</td>\n",
       "      <td>1166641</td>\n",
       "      <td>David Neuwirth</td>\n",
       "      <td>9</td>\n",
       "      <td>1123674</td>\n",
       "    </tr>\n",
       "    <tr>\n",
       "      <th>19</th>\n",
       "      <td>14229</td>\n",
       "      <td>David Neuwirth</td>\n",
       "      <td>9</td>\n",
       "      <td>1166641</td>\n",
       "      <td>David Neuwirth</td>\n",
       "      <td>9</td>\n",
       "      <td>1166641</td>\n",
       "    </tr>\n",
       "  </tbody>\n",
       "</table>\n",
       "</div>"
      ],
      "text/plain": [
       "    trustee_id        trustee_name_x  trustee_total_tships_x  regno_x  \\\n",
       "0         5873  Rabbi Abraham Hassan                       3  1071809   \n",
       "1         5873  Rabbi Abraham Hassan                       3  1071809   \n",
       "2         5873  Rabbi Abraham Hassan                       3  1071809   \n",
       "3         5873  Rabbi Abraham Hassan                       3  1095687   \n",
       "4         5873  Rabbi Abraham Hassan                       3  1095687   \n",
       "5         5873  Rabbi Abraham Hassan                       3  1095687   \n",
       "6         5873  Rabbi Abraham Hassan                       3  1013846   \n",
       "7         5873  Rabbi Abraham Hassan                       3  1013846   \n",
       "8         5873  Rabbi Abraham Hassan                       3  1013846   \n",
       "9        14229        David Neuwirth                       9  1123674   \n",
       "10       14229        David Neuwirth                       9  1123674   \n",
       "11       14229        David Neuwirth                       9  1123674   \n",
       "12       14229        David Neuwirth                       9  1123674   \n",
       "13       14229        David Neuwirth                       9  1123674   \n",
       "14       14229        David Neuwirth                       9  1123674   \n",
       "15       14229        David Neuwirth                       9  1123674   \n",
       "16       14229        David Neuwirth                       9  1123674   \n",
       "17       14229        David Neuwirth                       9  1123674   \n",
       "18       14229        David Neuwirth                       9  1166641   \n",
       "19       14229        David Neuwirth                       9  1166641   \n",
       "\n",
       "          trustee_name_y  trustee_total_tships_y  regno_y  \n",
       "0   Rabbi Abraham Hassan                       3  1071809  \n",
       "1   Rabbi Abraham Hassan                       3  1095687  \n",
       "2   Rabbi Abraham Hassan                       3  1013846  \n",
       "3   Rabbi Abraham Hassan                       3  1071809  \n",
       "4   Rabbi Abraham Hassan                       3  1095687  \n",
       "5   Rabbi Abraham Hassan                       3  1013846  \n",
       "6   Rabbi Abraham Hassan                       3  1071809  \n",
       "7   Rabbi Abraham Hassan                       3  1095687  \n",
       "8   Rabbi Abraham Hassan                       3  1013846  \n",
       "9         David Neuwirth                       9  1123674  \n",
       "10        David Neuwirth                       9  1166641  \n",
       "11        David Neuwirth                       9  1083461  \n",
       "12        David Neuwirth                       9  1109132  \n",
       "13        David Neuwirth                       9  1084316  \n",
       "14        David Neuwirth                       9  1136917  \n",
       "15        David Neuwirth                       9  1183303  \n",
       "16        David Neuwirth                       9  1111457  \n",
       "17        David Neuwirth                       9  1092751  \n",
       "18        David Neuwirth                       9  1123674  \n",
       "19        David Neuwirth                       9  1166641  "
      ]
     },
     "execution_count": 5,
     "metadata": {},
     "output_type": "execute_result"
    }
   ],
   "source": [
    "data_merge = data.merge(data, on=\"trustee_id\")\n",
    "data_merge.head(20)"
   ]
  },
  {
   "cell_type": "code",
   "execution_count": 6,
   "metadata": {},
   "outputs": [
    {
     "data": {
      "text/html": [
       "<div>\n",
       "<style scoped>\n",
       "    .dataframe tbody tr th:only-of-type {\n",
       "        vertical-align: middle;\n",
       "    }\n",
       "\n",
       "    .dataframe tbody tr th {\n",
       "        vertical-align: top;\n",
       "    }\n",
       "\n",
       "    .dataframe thead th {\n",
       "        text-align: right;\n",
       "    }\n",
       "</style>\n",
       "<table border=\"1\" class=\"dataframe\">\n",
       "  <thead>\n",
       "    <tr style=\"text-align: right;\">\n",
       "      <th>regno_y</th>\n",
       "      <th>208879</th>\n",
       "      <th>209174</th>\n",
       "      <th>210037</th>\n",
       "      <th>210563</th>\n",
       "      <th>212479</th>\n",
       "      <th>212755</th>\n",
       "      <th>213258</th>\n",
       "      <th>214684</th>\n",
       "      <th>215728</th>\n",
       "      <th>216533</th>\n",
       "      <th>...</th>\n",
       "      <th>1186986</th>\n",
       "      <th>1187340</th>\n",
       "      <th>1187446</th>\n",
       "      <th>1187493</th>\n",
       "      <th>1188245</th>\n",
       "      <th>1188334</th>\n",
       "      <th>1188662</th>\n",
       "      <th>1188791</th>\n",
       "      <th>1188851</th>\n",
       "      <th>1188892</th>\n",
       "    </tr>\n",
       "    <tr>\n",
       "      <th>regno_x</th>\n",
       "      <th></th>\n",
       "      <th></th>\n",
       "      <th></th>\n",
       "      <th></th>\n",
       "      <th></th>\n",
       "      <th></th>\n",
       "      <th></th>\n",
       "      <th></th>\n",
       "      <th></th>\n",
       "      <th></th>\n",
       "      <th></th>\n",
       "      <th></th>\n",
       "      <th></th>\n",
       "      <th></th>\n",
       "      <th></th>\n",
       "      <th></th>\n",
       "      <th></th>\n",
       "      <th></th>\n",
       "      <th></th>\n",
       "      <th></th>\n",
       "      <th></th>\n",
       "    </tr>\n",
       "  </thead>\n",
       "  <tbody>\n",
       "    <tr>\n",
       "      <th>208879</th>\n",
       "      <td>0</td>\n",
       "      <td>0</td>\n",
       "      <td>0</td>\n",
       "      <td>0</td>\n",
       "      <td>0</td>\n",
       "      <td>0</td>\n",
       "      <td>0</td>\n",
       "      <td>0</td>\n",
       "      <td>0</td>\n",
       "      <td>0</td>\n",
       "      <td>...</td>\n",
       "      <td>0</td>\n",
       "      <td>0</td>\n",
       "      <td>0</td>\n",
       "      <td>0</td>\n",
       "      <td>0</td>\n",
       "      <td>0</td>\n",
       "      <td>0</td>\n",
       "      <td>0</td>\n",
       "      <td>0</td>\n",
       "      <td>0</td>\n",
       "    </tr>\n",
       "    <tr>\n",
       "      <th>209174</th>\n",
       "      <td>0</td>\n",
       "      <td>0</td>\n",
       "      <td>0</td>\n",
       "      <td>0</td>\n",
       "      <td>0</td>\n",
       "      <td>0</td>\n",
       "      <td>0</td>\n",
       "      <td>0</td>\n",
       "      <td>0</td>\n",
       "      <td>0</td>\n",
       "      <td>...</td>\n",
       "      <td>0</td>\n",
       "      <td>0</td>\n",
       "      <td>0</td>\n",
       "      <td>0</td>\n",
       "      <td>0</td>\n",
       "      <td>0</td>\n",
       "      <td>0</td>\n",
       "      <td>0</td>\n",
       "      <td>0</td>\n",
       "      <td>0</td>\n",
       "    </tr>\n",
       "    <tr>\n",
       "      <th>210037</th>\n",
       "      <td>0</td>\n",
       "      <td>0</td>\n",
       "      <td>0</td>\n",
       "      <td>0</td>\n",
       "      <td>0</td>\n",
       "      <td>0</td>\n",
       "      <td>0</td>\n",
       "      <td>0</td>\n",
       "      <td>0</td>\n",
       "      <td>0</td>\n",
       "      <td>...</td>\n",
       "      <td>0</td>\n",
       "      <td>0</td>\n",
       "      <td>0</td>\n",
       "      <td>0</td>\n",
       "      <td>0</td>\n",
       "      <td>0</td>\n",
       "      <td>0</td>\n",
       "      <td>0</td>\n",
       "      <td>0</td>\n",
       "      <td>0</td>\n",
       "    </tr>\n",
       "    <tr>\n",
       "      <th>210563</th>\n",
       "      <td>0</td>\n",
       "      <td>0</td>\n",
       "      <td>0</td>\n",
       "      <td>0</td>\n",
       "      <td>0</td>\n",
       "      <td>0</td>\n",
       "      <td>0</td>\n",
       "      <td>0</td>\n",
       "      <td>0</td>\n",
       "      <td>0</td>\n",
       "      <td>...</td>\n",
       "      <td>0</td>\n",
       "      <td>0</td>\n",
       "      <td>0</td>\n",
       "      <td>0</td>\n",
       "      <td>0</td>\n",
       "      <td>0</td>\n",
       "      <td>0</td>\n",
       "      <td>0</td>\n",
       "      <td>0</td>\n",
       "      <td>0</td>\n",
       "    </tr>\n",
       "    <tr>\n",
       "      <th>212479</th>\n",
       "      <td>0</td>\n",
       "      <td>0</td>\n",
       "      <td>0</td>\n",
       "      <td>0</td>\n",
       "      <td>0</td>\n",
       "      <td>0</td>\n",
       "      <td>0</td>\n",
       "      <td>0</td>\n",
       "      <td>0</td>\n",
       "      <td>0</td>\n",
       "      <td>...</td>\n",
       "      <td>0</td>\n",
       "      <td>0</td>\n",
       "      <td>0</td>\n",
       "      <td>0</td>\n",
       "      <td>0</td>\n",
       "      <td>0</td>\n",
       "      <td>0</td>\n",
       "      <td>0</td>\n",
       "      <td>0</td>\n",
       "      <td>0</td>\n",
       "    </tr>\n",
       "    <tr>\n",
       "      <th>...</th>\n",
       "      <td>...</td>\n",
       "      <td>...</td>\n",
       "      <td>...</td>\n",
       "      <td>...</td>\n",
       "      <td>...</td>\n",
       "      <td>...</td>\n",
       "      <td>...</td>\n",
       "      <td>...</td>\n",
       "      <td>...</td>\n",
       "      <td>...</td>\n",
       "      <td>...</td>\n",
       "      <td>...</td>\n",
       "      <td>...</td>\n",
       "      <td>...</td>\n",
       "      <td>...</td>\n",
       "      <td>...</td>\n",
       "      <td>...</td>\n",
       "      <td>...</td>\n",
       "      <td>...</td>\n",
       "      <td>...</td>\n",
       "      <td>...</td>\n",
       "    </tr>\n",
       "    <tr>\n",
       "      <th>1188334</th>\n",
       "      <td>0</td>\n",
       "      <td>0</td>\n",
       "      <td>0</td>\n",
       "      <td>0</td>\n",
       "      <td>0</td>\n",
       "      <td>0</td>\n",
       "      <td>0</td>\n",
       "      <td>0</td>\n",
       "      <td>0</td>\n",
       "      <td>0</td>\n",
       "      <td>...</td>\n",
       "      <td>0</td>\n",
       "      <td>0</td>\n",
       "      <td>0</td>\n",
       "      <td>0</td>\n",
       "      <td>0</td>\n",
       "      <td>0</td>\n",
       "      <td>0</td>\n",
       "      <td>0</td>\n",
       "      <td>0</td>\n",
       "      <td>0</td>\n",
       "    </tr>\n",
       "    <tr>\n",
       "      <th>1188662</th>\n",
       "      <td>0</td>\n",
       "      <td>0</td>\n",
       "      <td>0</td>\n",
       "      <td>0</td>\n",
       "      <td>0</td>\n",
       "      <td>0</td>\n",
       "      <td>0</td>\n",
       "      <td>0</td>\n",
       "      <td>0</td>\n",
       "      <td>0</td>\n",
       "      <td>...</td>\n",
       "      <td>0</td>\n",
       "      <td>0</td>\n",
       "      <td>0</td>\n",
       "      <td>0</td>\n",
       "      <td>0</td>\n",
       "      <td>0</td>\n",
       "      <td>0</td>\n",
       "      <td>0</td>\n",
       "      <td>0</td>\n",
       "      <td>0</td>\n",
       "    </tr>\n",
       "    <tr>\n",
       "      <th>1188791</th>\n",
       "      <td>0</td>\n",
       "      <td>0</td>\n",
       "      <td>0</td>\n",
       "      <td>0</td>\n",
       "      <td>0</td>\n",
       "      <td>0</td>\n",
       "      <td>0</td>\n",
       "      <td>0</td>\n",
       "      <td>0</td>\n",
       "      <td>0</td>\n",
       "      <td>...</td>\n",
       "      <td>0</td>\n",
       "      <td>0</td>\n",
       "      <td>0</td>\n",
       "      <td>0</td>\n",
       "      <td>0</td>\n",
       "      <td>0</td>\n",
       "      <td>0</td>\n",
       "      <td>0</td>\n",
       "      <td>0</td>\n",
       "      <td>0</td>\n",
       "    </tr>\n",
       "    <tr>\n",
       "      <th>1188851</th>\n",
       "      <td>0</td>\n",
       "      <td>0</td>\n",
       "      <td>0</td>\n",
       "      <td>0</td>\n",
       "      <td>0</td>\n",
       "      <td>0</td>\n",
       "      <td>0</td>\n",
       "      <td>0</td>\n",
       "      <td>0</td>\n",
       "      <td>0</td>\n",
       "      <td>...</td>\n",
       "      <td>0</td>\n",
       "      <td>0</td>\n",
       "      <td>0</td>\n",
       "      <td>0</td>\n",
       "      <td>0</td>\n",
       "      <td>0</td>\n",
       "      <td>0</td>\n",
       "      <td>0</td>\n",
       "      <td>0</td>\n",
       "      <td>0</td>\n",
       "    </tr>\n",
       "    <tr>\n",
       "      <th>1188892</th>\n",
       "      <td>0</td>\n",
       "      <td>0</td>\n",
       "      <td>0</td>\n",
       "      <td>0</td>\n",
       "      <td>0</td>\n",
       "      <td>0</td>\n",
       "      <td>0</td>\n",
       "      <td>0</td>\n",
       "      <td>0</td>\n",
       "      <td>0</td>\n",
       "      <td>...</td>\n",
       "      <td>0</td>\n",
       "      <td>0</td>\n",
       "      <td>0</td>\n",
       "      <td>0</td>\n",
       "      <td>0</td>\n",
       "      <td>0</td>\n",
       "      <td>0</td>\n",
       "      <td>0</td>\n",
       "      <td>0</td>\n",
       "      <td>0</td>\n",
       "    </tr>\n",
       "  </tbody>\n",
       "</table>\n",
       "<p>1123 rows × 1123 columns</p>\n",
       "</div>"
      ],
      "text/plain": [
       "regno_y  208879   209174   210037   210563   212479   212755   213258   \\\n",
       "regno_x                                                                  \n",
       "208879         0        0        0        0        0        0        0   \n",
       "209174         0        0        0        0        0        0        0   \n",
       "210037         0        0        0        0        0        0        0   \n",
       "210563         0        0        0        0        0        0        0   \n",
       "212479         0        0        0        0        0        0        0   \n",
       "...          ...      ...      ...      ...      ...      ...      ...   \n",
       "1188334        0        0        0        0        0        0        0   \n",
       "1188662        0        0        0        0        0        0        0   \n",
       "1188791        0        0        0        0        0        0        0   \n",
       "1188851        0        0        0        0        0        0        0   \n",
       "1188892        0        0        0        0        0        0        0   \n",
       "\n",
       "regno_y  214684   215728   216533   ...  1186986  1187340  1187446  1187493  \\\n",
       "regno_x                             ...                                       \n",
       "208879         0        0        0  ...        0        0        0        0   \n",
       "209174         0        0        0  ...        0        0        0        0   \n",
       "210037         0        0        0  ...        0        0        0        0   \n",
       "210563         0        0        0  ...        0        0        0        0   \n",
       "212479         0        0        0  ...        0        0        0        0   \n",
       "...          ...      ...      ...  ...      ...      ...      ...      ...   \n",
       "1188334        0        0        0  ...        0        0        0        0   \n",
       "1188662        0        0        0  ...        0        0        0        0   \n",
       "1188791        0        0        0  ...        0        0        0        0   \n",
       "1188851        0        0        0  ...        0        0        0        0   \n",
       "1188892        0        0        0  ...        0        0        0        0   \n",
       "\n",
       "regno_y  1188245  1188334  1188662  1188791  1188851  1188892  \n",
       "regno_x                                                        \n",
       "208879         0        0        0        0        0        0  \n",
       "209174         0        0        0        0        0        0  \n",
       "210037         0        0        0        0        0        0  \n",
       "210563         0        0        0        0        0        0  \n",
       "212479         0        0        0        0        0        0  \n",
       "...          ...      ...      ...      ...      ...      ...  \n",
       "1188334        0        0        0        0        0        0  \n",
       "1188662        0        0        0        0        0        0  \n",
       "1188791        0        0        0        0        0        0  \n",
       "1188851        0        0        0        0        0        0  \n",
       "1188892        0        0        0        0        0        0  \n",
       "\n",
       "[1123 rows x 1123 columns]"
      ]
     },
     "execution_count": 6,
     "metadata": {},
     "output_type": "execute_result"
    }
   ],
   "source": [
    "charity_mat = pd.crosstab(data_merge.regno_x, data_merge.regno_y)\n",
    "np.fill_diagonal(charity_mat.values, 0)\n",
    "charity_mat[charity_mat >= 1] = 1\n",
    "charity_mat"
   ]
  },
  {
   "cell_type": "markdown",
   "metadata": {
    "slideshow": {
     "slide_type": "subslide"
    }
   },
   "source": [
    "As you probably predicted, there are lots of zeroes; that is, most charities are not connected to most other charities. However they are all connected to at least one other, which can be seen by calculating the row/column totals:"
   ]
  },
  {
   "cell_type": "code",
   "execution_count": 7,
   "metadata": {
    "slideshow": {
     "slide_type": "subslide"
    }
   },
   "outputs": [
    {
     "data": {
      "text/plain": [
       "count    1123.000000\n",
       "mean        2.746215\n",
       "std         2.679671\n",
       "min         1.000000\n",
       "25%         1.000000\n",
       "50%         2.000000\n",
       "75%         3.000000\n",
       "max        23.000000\n",
       "dtype: float64"
      ]
     },
     "execution_count": 7,
     "metadata": {},
     "output_type": "execute_result"
    }
   ],
   "source": [
    "charity_mat.sum(axis=1).describe() # row total"
   ]
  },
  {
   "cell_type": "code",
   "execution_count": 8,
   "metadata": {
    "slideshow": {
     "slide_type": "subslide"
    }
   },
   "outputs": [
    {
     "data": {
      "text/plain": [
       "count    1123.000000\n",
       "mean        2.746215\n",
       "std         2.679671\n",
       "min         1.000000\n",
       "25%         1.000000\n",
       "50%         2.000000\n",
       "75%         3.000000\n",
       "max        23.000000\n",
       "dtype: float64"
      ]
     },
     "execution_count": 8,
     "metadata": {},
     "output_type": "execute_result"
    }
   ],
   "source": [
    "charity_mat.sum(axis=0).describe() # column total"
   ]
  },
  {
   "cell_type": "markdown",
   "metadata": {
    "slideshow": {
     "slide_type": "skip"
    }
   },
   "source": [
    "**QUESTION:** Why are the summaries of the row and column totals the same?"
   ]
  },
  {
   "cell_type": "markdown",
   "metadata": {
    "slideshow": {
     "slide_type": "subslide"
    }
   },
   "source": [
    "#### Convert matrix to a `networkx` graph object\n",
    "\n",
    "Finally we need to convert the matrix into a graph object in Python using the `networkx` module and its `from_pandas_adjacency.()` method &mdash; this will allow us to access the rich analytical measures provided by this Python module."
   ]
  },
  {
   "cell_type": "code",
   "execution_count": 9,
   "metadata": {
    "slideshow": {
     "slide_type": "subslide"
    }
   },
   "outputs": [
    {
     "data": {
      "text/plain": [
       "<networkx.classes.graph.Graph at 0x295258aaac0>"
      ]
     },
     "execution_count": 9,
     "metadata": {},
     "output_type": "execute_result"
    }
   ],
   "source": [
    "chargraph = nx.from_pandas_adjacency(charity_mat)\n",
    "chargraph # return what type of object 'chargraph' is"
   ]
  },
  {
   "cell_type": "markdown",
   "metadata": {
    "slideshow": {
     "slide_type": "slide"
    }
   },
   "source": [
    "### Network-level summaries\n",
    "\n",
    "We know from our data that we are dealing with a network of charities, who are connected through *undirected*, *binary* ties. We can use `networkx` to learn much more about our network and its properties and structure."
   ]
  },
  {
   "cell_type": "markdown",
   "metadata": {
    "slideshow": {
     "slide_type": "subslide"
    }
   },
   "source": [
    "#### Size\n",
    "\n",
    "First, let's get a sense of how large the network is in terms of nodes and ties:"
   ]
  },
  {
   "cell_type": "code",
   "execution_count": 10,
   "metadata": {
    "slideshow": {
     "slide_type": "subslide"
    }
   },
   "outputs": [
    {
     "name": "stdout",
     "output_type": "stream",
     "text": [
      "Graph with 1123 nodes and 1542 edges\n"
     ]
    }
   ],
   "source": [
    "print(nx.info(chargraph))"
   ]
  },
  {
   "cell_type": "markdown",
   "metadata": {
    "slideshow": {
     "slide_type": "skip"
    }
   },
   "source": [
    "There are 1,542 ties (edges) between the 1,123 Manchester charities. *Average degree* is a measure of the mean number of ties a node has with other nodes. In our example, a Manchester charity is typically connected to three others through its trustees."
   ]
  },
  {
   "cell_type": "markdown",
   "metadata": {
    "slideshow": {
     "slide_type": "subslide"
    }
   },
   "source": [
    "#### Density\n",
    "\n",
    "How cohesive or dense is this network? That is, how many of the possible connections between charities have been realised? We can use the `nx.density()` function to calculate a measure ranging from 1 (all connections realised) to 0 (no connections between nodes). The results below show that our network of charities is not very dense at all, though this is to be expected."
   ]
  },
  {
   "cell_type": "code",
   "execution_count": 11,
   "metadata": {
    "slideshow": {
     "slide_type": "subslide"
    }
   },
   "outputs": [
    {
     "name": "stdout",
     "output_type": "stream",
     "text": [
      "Network density: 0.0024476073923457506\n"
     ]
    }
   ],
   "source": [
    "density = nx.density(chargraph)\n",
    "print(\"Network density:\", density)"
   ]
  },
  {
   "cell_type": "markdown",
   "metadata": {
    "slideshow": {
     "slide_type": "subslide"
    }
   },
   "source": [
    "#### Clustering\n",
    "\n",
    "To what extent are nodes in the network clustered together? That is, do groups of nodes tend to realise all possible connections between them. *Transitivity* is one such measure of clustering: it is defined as the ratio of all triads realised to all possible triads. A possible triad exists when one node is connected to two others: in such a scenario we can assume that the other two nodes have a good opportunity to connect to each other. Put another way, *transitivity* calculates the probability that two individuals who share a common acquaintance, will end up connecting with each other directly i.e., a friend of a friend becomes a friend. See the simple examples below to gain an understanding of this concept:"
   ]
  },
  {
   "cell_type": "markdown",
   "metadata": {
    "slideshow": {
     "slide_type": "subslide"
    }
   },
   "source": [
    "*Potential triad*\n",
    "\n",
    "![Potential Triad](./images/potential-triad-2020-08-26.png)"
   ]
  },
  {
   "cell_type": "markdown",
   "metadata": {
    "slideshow": {
     "slide_type": "subslide"
    }
   },
   "source": [
    "*Realised triad*\n",
    "\n",
    "![Realised Triad](./images/triad-2020-08-26.png)"
   ]
  },
  {
   "cell_type": "code",
   "execution_count": 12,
   "metadata": {
    "slideshow": {
     "slide_type": "subslide"
    }
   },
   "outputs": [
    {
     "name": "stdout",
     "output_type": "stream",
     "text": [
      "Triadic closure: 0.6133015920249962\n"
     ]
    }
   ],
   "source": [
    "triadic_closure = nx.transitivity(chargraph)\n",
    "print(\"Triadic closure:\", triadic_closure)"
   ]
  },
  {
   "cell_type": "markdown",
   "metadata": {
    "slideshow": {
     "slide_type": "skip"
    }
   },
   "source": [
    "Transitivity measure is high &mdash; 61% of possible triads are realised &mdash;, though this is likely due to the fact that there are fewer possible triads to begin with (remember that our network is not very dense). Where such possible triads exist however, it is likelier than not that a triad will be formed."
   ]
  },
  {
   "cell_type": "markdown",
   "metadata": {
    "slideshow": {
     "slide_type": "slide"
    }
   },
   "source": [
    "### Node-level measures\n",
    "\n",
    "Now let's focus on summarising some of the relational properties of nodes in the network e.g., which nodes possess the most ties?"
   ]
  },
  {
   "cell_type": "markdown",
   "metadata": {
    "slideshow": {
     "slide_type": "subslide"
    }
   },
   "source": [
    "#### Centrality\n",
    "\n",
    "Which charities have the most connections in the network? Put another way, which charities are most prominent or important, or serve as hubs in the network? The *degree centrality* measure calculates the number of ties (or degrees) each node has."
   ]
  },
  {
   "cell_type": "code",
   "execution_count": 13,
   "metadata": {
    "slideshow": {
     "slide_type": "subslide"
    }
   },
   "outputs": [
    {
     "data": {
      "text/plain": [
       "{'degree': 12}"
      ]
     },
     "execution_count": 13,
     "metadata": {},
     "output_type": "execute_result"
    }
   ],
   "source": [
    "degree_dict = dict(chargraph.degree(chargraph.nodes()))\n",
    "nx.set_node_attributes(chargraph, degree_dict, \"degree\")\n",
    "chargraph.nodes[225116] # number of ties for charity 225116"
   ]
  },
  {
   "cell_type": "code",
   "execution_count": 14,
   "metadata": {
    "slideshow": {
     "slide_type": "subslide"
    }
   },
   "outputs": [
    {
     "name": "stdout",
     "output_type": "stream",
     "text": [
      "Top 20 nodes by degree:\n",
      "(530002, 23)\n",
      "(249424, 22)\n",
      "(251259, 18)\n",
      "(1108731, 18)\n",
      "(326920, 17)\n",
      "(526702, 17)\n",
      "(1040579, 17)\n",
      "(526235, 16)\n",
      "(250311, 15)\n",
      "(515341, 15)\n",
      "(1136358, 15)\n",
      "(251737, 14)\n",
      "(526654, 13)\n",
      "(526660, 13)\n",
      "(224271, 12)\n",
      "(225116, 12)\n",
      "(249657, 12)\n",
      "(260972, 12)\n",
      "(526407, 12)\n",
      "(529876, 12)\n"
     ]
    }
   ],
   "source": [
    "sorted_degree = sorted(degree_dict.items(), key=itemgetter(1), reverse=True)\n",
    "print(\"Top 20 nodes by degree:\")\n",
    "for d in sorted_degree[:20]:\n",
    "    print(d)"
   ]
  },
  {
   "cell_type": "markdown",
   "metadata": {
    "slideshow": {
     "slide_type": "skip"
    }
   },
   "source": [
    "Charity 530002 is the best connected organisation in the network, with 23 ties to other charities. We can also summarise the distribution of ties in the network like so:"
   ]
  },
  {
   "cell_type": "code",
   "execution_count": 15,
   "metadata": {
    "slideshow": {
     "slide_type": "subslide"
    }
   },
   "outputs": [
    {
     "data": {
      "image/png": "[encoded data removed]",
      "text/plain": [
       "<Figure size 432x288 with 1 Axes>"
      ]
     },
     "metadata": {
      "needs_background": "light"
     },
     "output_type": "display_data"
    }
   ],
   "source": [
    "degrees = [chargraph.degree(n) for n in chargraph.nodes()]\n",
    "\n",
    "plt.hist(degrees)\n",
    "plt.title('Degree distribution')\n",
    "plt.xlabel('Number of ties')\n",
    "plt.ylabel('Number of charities')\n",
    "\n",
    "plt.show()"
   ]
  },
  {
   "cell_type": "markdown",
   "metadata": {
    "slideshow": {
     "slide_type": "skip"
    }
   },
   "source": [
    "As is common for real networks of all types (social, physical, biological etc), the distribution is highly positively skewed, with the vast majority of charities having fewer than five ties, with a very small number have more than fifteen."
   ]
  },
  {
   "cell_type": "markdown",
   "metadata": {
    "slideshow": {
     "slide_type": "slide"
    }
   },
   "source": [
    "### Visualising the network\n",
    "\n",
    "As stated previously, visualising a network is inessential to the task of accurately describing its structure and properties. Nevertheless, here is the charity trustee network represented visually:"
   ]
  },
  {
   "cell_type": "markdown",
   "metadata": {
    "slideshow": {
     "slide_type": "subslide"
    }
   },
   "source": [
    "![Charity Network Sociogram](./images/charity-network-2020-08-27.png)"
   ]
  },
  {
   "cell_type": "markdown",
   "metadata": {
    "slideshow": {
     "slide_type": "skip"
    }
   },
   "source": [
    "To reinforce the limitations of visual representations, here is our charity network but this time with a circular layout:"
   ]
  },
  {
   "cell_type": "markdown",
   "metadata": {
    "slideshow": {
     "slide_type": "subslide"
    }
   },
   "source": [
    "![Charity Network Sociogram Alternative](./images/charity-network-alt-2020-08-27.png)"
   ]
  },
  {
   "cell_type": "markdown",
   "metadata": {
    "slideshow": {
     "slide_type": "skip"
    }
   },
   "source": [
    "Both representations leverage the same relational data i.e., same number of nodes and ties, same patterns of relations etc. As you can see, it is difficult to derive substantive insight from the visual representations of all but the smallest and simplest networks."
   ]
  },
  {
   "cell_type": "markdown",
   "metadata": {
    "slideshow": {
     "slide_type": "skip"
    }
   },
   "source": [
    "## Conclusion\n",
    "\n",
    "Social Network Analysis (SNA) is a broad, rich and increasingly relevant methodology for investigating patterns in social structures and relations. SNA is a highly technical and mathematical approach to sociological analysis, replete with an intimidating vocabularly of terms and concepts not otherwise encountered with other forms of social science research (Scott, 2017). In addition, the data underpinning SNA have a distinctive structure and thus require specialised approaches to data manipulation and analysis. We hope this lesson has clarified some of these concepts, terms and distinctive data structures.\n",
    "\n",
    "Good luck on your data-driven travels!"
   ]
  },
  {
   "cell_type": "markdown",
   "metadata": {
    "slideshow": {
     "slide_type": "skip"
    }
   },
   "source": [
    "## Bibliography\n",
    "\n",
    "Barba, Lorena A. et al. (2019). *Teaching and Learning with Jupyter*. <a href=\"https://jupyter4edu.github.io/jupyter-edu-book/\" target=_blank>https://jupyter4edu.github.io/jupyter-edu-book/</a>.\n",
    "\n",
    "Bourdieu, P. (1986). The Forms of Capital. In J. Richardson (Ed.), *Handbook of Theory and Research for the Sociology of Education* (pp. 241-258). Westport, CT: Greenwood.\n",
    "\n",
    "Burt, R. S. (1992). *Structural Holes: The Social Structure of Competition*. Cambridge, MA: Harvard University Press.\n",
    "\n",
    "Caiani, M. (2014). Social Network Analysis. In D. Della Porta (Ed.), *Methodological Practices in Social Movement Research* (pp. 368-396). Oxford: Oxford University Press.\n",
    "\n",
    "Grannovetter, M. (1973). The Strength of Weak Ties. *American Journal of Sociology, 78*(6), pp. 1360-1380. \n",
    "\n",
    "Hanneman, R. A., & Riddle, M. (2005). *Introduction to social network methods*. <a href=\"http://faculty.ucr.edu/~hanneman/nettext/\" target=_blank>http://faculty.ucr.edu/~hanneman/nettext/</a>.\n",
    "\n",
    "Owen-Smith, J. (2017). Networks: The Basics. In I. Foster et al. (Eds.), *Big Data and Social Science: A Practical Guide to Methods and Tools* (pp. 215-240). Boca Raton, FL: CRC Press.\n",
    "\n",
    "Scott, J. (2017). *Social Network Analysis* (4th edition). London: SAGE Publications Inc.\n",
    "\n",
    "Smith, K. P. & Christakis, N. A. (2008). Social Networks and Health. *Annual Review of Sociology, 34*, pp. 405-429.\n",
    "\n",
    "Wasserman, S. & Faust, K. (1994). *Social Network Analysis*. Cambridge: Cambridge University Press."
   ]
  },
  {
   "cell_type": "markdown",
   "metadata": {
    "slideshow": {
     "slide_type": "skip"
    }
   },
   "source": [
    "## Further reading and resources\n",
    "\n",
    "We maintain a list of useful books, papers, websites and other resources on our SNA Github repository: <a href=\"https://github.com/UKDataServiceOpen/social-network-analysis/tree/master/reading-list/\" target=_blank>[Reading list]</a>\n",
    "\n",
    "The help documentation for the `networkx` and `pandas` modules is refreshingly readable and useful:\n",
    "* <a href=\"https://networkx.github.io/documentation/stable/index.html\" target=_blank>`networkx`</a>\n",
    "* <a href=\"https://pandas.pydata.org/docs/\" target=_blank>`pandas`</a> \n",
    "\n",
    "You may also be interested in the following articles and lessons specifically relating to social network analysis:\n",
    "* <a href=\"https://programminghistorian.org/en/lessons/exploring-and-analyzing-network-data-with-python\" target=_blank>Exploring and Analyzing Network Data with Python </a>\n",
    "* <a href=\"https://programminghistorian.org/en/lessons/creating-network-diagrams-from-historical-sources\" target=_blank>From Hermeneutics to Data to Networks: Data Extraction and Network Visualization of Historical Sources</a>"
   ]
  }
 ],
 "metadata": {
  "kernelspec": {
   "display_name": "Python 3",
   "language": "python",
   "name": "python3"
  },
  "language_info": {
   "codemirror_mode": {
    "name": "ipython",
    "version": 3
   },
   "file_extension": ".py",
   "mimetype": "text/x-python",
   "name": "python",
   "nbconvert_exporter": "python",
   "pygments_lexer": "ipython3",
   "version": "3.9.1"
  },
  "toc": {
   "base_numbering": 1,
   "nav_menu": {},
   "number_sections": true,
   "sideBar": false,
   "skip_h1_title": true,
   "title_cell": "Table of Contents",
   "title_sidebar": "Contents",
   "toc_cell": true,
   "toc_position": {},
   "toc_section_display": true,
   "toc_window_display": false
  }
 },
 "nbformat": 4,
 "nbformat_minor": 4
}
